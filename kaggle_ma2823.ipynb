{
 "cells": [
  {
   "cell_type": "code",
   "execution_count": 1,
   "metadata": {
    "collapsed": true
   },
   "outputs": [],
   "source": [
    "import pandas as pd\n",
    "import numpy as np\n",
    "import matplotlib.pyplot as plt\n",
    "from sklearn import preprocessing,metrics\n",
    "import sys\n",
    "\n",
    "%matplotlib inline"
   ]
  },
  {
   "cell_type": "code",
   "execution_count": 2,
   "metadata": {},
   "outputs": [
    {
     "name": "stdout",
     "output_type": "stream",
     "text": [
      "nb_words_title  Number of words in the article's titles\r\n",
      "nb_words_content  Number of words in the article\r\n",
      "pp_uniq_words  Proportion of unique words in the article\r\n",
      "pp_stop_words  Proportion of stop words (i.e. words predefined to be too common to be of use for interpretation or queries, such as 'the', 'a', 'and', etc.)\r\n",
      "pp_uniq_non-stop_words  Proportion of non-stop words among unique words\r\n",
      "nb_links  Number of hyperlinks in the article\r\n",
      "nb_outside_links  Number of hyperlinks pointing to another website\r\n",
      "nb_images  Number of images in the article\r\n",
      "nb_videos  Number of videos in the article\r\n",
      "ave_word_length  Average word length\r\n",
      "nb_keywords  Number of keywords in the metadata\r\n",
      "category  Category of the article: 0-Lifestyle, 1-Entertainment, 2-Business, 3-Web, 4-Tech, 5-World\r\n",
      "nb_mina_mink  Minimum number of share counts among all articles with at least one keyword in common with the article\r\n",
      "nb_mina_maxk  Minimum number of maximum share counts per keyword\r\n",
      "nb_mina_avek  Minimum number of average share counts per keyword\r\n",
      "nb_maxa_mink  Maximum number of minimum share counts per keyword\r\n",
      "nb_maxa_maxk  Maximum number of share counts among all articles with at least one keyword in common with the article\r\n",
      "nb_maxa_avek  Maximum number of average share counts per keyword\r\n",
      "nb_avea_mink  Average number of minimum share counts per keyword\r\n",
      "nb_avea_maxk  Average number of maximum share counts per keyword\r\n",
      "nb_avea_avek  Average number of average share counts per keyword\r\n",
      "nb_min_linked  Minimum number of shares of articles from the same website linked within the article\r\n",
      "nb_max_linked  Maximum number of shares of articles from the same website linked within the article\r\n",
      "nb_ave_linked  Average number of shares of articles from the same website linked within the article\r\n",
      "weekday  Day of the week: 0-Monday, 1-Tuesday, 2-Wednesday, until 6-Sunday\r\n",
      "dist_topic_0  Distance to topic 0\r\n",
      "dist_topic_1  Distance to topic 1\r\n",
      "dist_topic_2  Distance to topic 2\r\n",
      "dist_topic_3  Distance to topic 3\r\n",
      "dist_topic_4  Distance to topic 4\r\n",
      "subj  Subjectivity\r\n",
      "polar  Sentiment polarity \r\n",
      "pp_pos_words  Proportion of positive words in the article\r\n",
      "pp_neg_words  Proportion of negative words in the article\r\n",
      "pp_pos_words_in_nonneutral  Proportion of positive words among the non-neutral words of the article\r\n",
      "ave_polar_pos  Average sentiment polarity of the positive words\r\n",
      "min_polar_pos  Minimum sentiment polarity of the positive words\r\n",
      "max_polar_pos  Maximum sentiment polarity of the positive words\r\n",
      "ave_polar_neg  Average sentiment polarity of the negative words\r\n",
      "min_polar_neg  Mimimum sentiment polarity of the negative words\r\n",
      "max_polar_neg  Maximum sentiment polarity of the negative words\r\n",
      "subj_title  Subjectivity of the title\r\n",
      "polar_title  Polarity of the title\r\n"
     ]
    }
   ],
   "source": [
    "#descriptions of features\n",
    "!cat data/kaggle_data/features.txt"
   ]
  },
  {
   "cell_type": "code",
   "execution_count": 19,
   "metadata": {},
   "outputs": [
    {
     "name": "stderr",
     "output_type": "stream",
     "text": [
      "/Users/XQ/envs/scipy35/lib/python3.5/site-packages/ipykernel_launcher.py:1: ParserWarning: Falling back to the 'python' engine because the 'c' engine does not support regex separators (separators > 1 char and different from '\\s+' are interpreted as regex); you can avoid this warning by specifying engine='python'.\n",
      "  \"\"\"Entry point for launching an IPython kernel.\n"
     ]
    },
    {
     "data": {
      "text/html": [
       "<div>\n",
       "<style>\n",
       "    .dataframe thead tr:only-child th {\n",
       "        text-align: right;\n",
       "    }\n",
       "\n",
       "    .dataframe thead th {\n",
       "        text-align: left;\n",
       "    }\n",
       "\n",
       "    .dataframe tbody tr th {\n",
       "        vertical-align: top;\n",
       "    }\n",
       "</style>\n",
       "<table border=\"1\" class=\"dataframe\">\n",
       "  <thead>\n",
       "    <tr style=\"text-align: right;\">\n",
       "      <th></th>\n",
       "      <th>nb_words_title</th>\n",
       "      <th>nb_words_content</th>\n",
       "      <th>pp_uniq_words</th>\n",
       "      <th>pp_stop_words</th>\n",
       "      <th>pp_uniq_non-stop_words</th>\n",
       "      <th>nb_links</th>\n",
       "      <th>nb_outside_links</th>\n",
       "      <th>nb_images</th>\n",
       "      <th>nb_videos</th>\n",
       "      <th>ave_word_length</th>\n",
       "      <th>...</th>\n",
       "      <th>pp_neg_words</th>\n",
       "      <th>pp_pos_words_in_nonneutral</th>\n",
       "      <th>ave_polar_pos</th>\n",
       "      <th>min_polar_pos</th>\n",
       "      <th>max_polar_pos</th>\n",
       "      <th>ave_polar_neg</th>\n",
       "      <th>min_polar_neg</th>\n",
       "      <th>max_polar_neg</th>\n",
       "      <th>subj_title</th>\n",
       "      <th>polar_title</th>\n",
       "    </tr>\n",
       "  </thead>\n",
       "  <tbody>\n",
       "    <tr>\n",
       "      <th>0</th>\n",
       "      <td>12</td>\n",
       "      <td>258</td>\n",
       "      <td>0.5745</td>\n",
       "      <td>6.897000e-09</td>\n",
       "      <td>0.6897</td>\n",
       "      <td>4.0</td>\n",
       "      <td>2</td>\n",
       "      <td>0</td>\n",
       "      <td>0</td>\n",
       "      <td>4</td>\n",
       "      <td>...</td>\n",
       "      <td>0.01653</td>\n",
       "      <td>0.7143</td>\n",
       "      <td>0.2967</td>\n",
       "      <td>0.10000</td>\n",
       "      <td>1.0</td>\n",
       "      <td>-0.2344</td>\n",
       "      <td>-0.3</td>\n",
       "      <td>-0.1875</td>\n",
       "      <td>0.125</td>\n",
       "      <td>0.0</td>\n",
       "    </tr>\n",
       "    <tr>\n",
       "      <th>1</th>\n",
       "      <td>8</td>\n",
       "      <td>11</td>\n",
       "      <td>0.0000</td>\n",
       "      <td>1.000000e+00</td>\n",
       "      <td>0.0000</td>\n",
       "      <td>0.0</td>\n",
       "      <td>0</td>\n",
       "      <td>0</td>\n",
       "      <td>0</td>\n",
       "      <td>0</td>\n",
       "      <td>...</td>\n",
       "      <td>0.00000</td>\n",
       "      <td>0.0000</td>\n",
       "      <td>0.0000</td>\n",
       "      <td>0.00000</td>\n",
       "      <td>0.0</td>\n",
       "      <td>0.0000</td>\n",
       "      <td>0.0</td>\n",
       "      <td>0.0000</td>\n",
       "      <td>0.525</td>\n",
       "      <td>0.3</td>\n",
       "    </tr>\n",
       "    <tr>\n",
       "      <th>2</th>\n",
       "      <td>10</td>\n",
       "      <td>263</td>\n",
       "      <td>0.7249</td>\n",
       "      <td>6.623000e-09</td>\n",
       "      <td>0.8543</td>\n",
       "      <td>6.0</td>\n",
       "      <td>3</td>\n",
       "      <td>2</td>\n",
       "      <td>0</td>\n",
       "      <td>5</td>\n",
       "      <td>...</td>\n",
       "      <td>0.04701</td>\n",
       "      <td>0.5000</td>\n",
       "      <td>0.2617</td>\n",
       "      <td>0.10000</td>\n",
       "      <td>1.0</td>\n",
       "      <td>-0.2170</td>\n",
       "      <td>-0.5</td>\n",
       "      <td>-0.1250</td>\n",
       "      <td>0.000</td>\n",
       "      <td>-0.2</td>\n",
       "    </tr>\n",
       "    <tr>\n",
       "      <th>3</th>\n",
       "      <td>13</td>\n",
       "      <td>1281</td>\n",
       "      <td>0.4067</td>\n",
       "      <td>1.422000e-09</td>\n",
       "      <td>0.5903</td>\n",
       "      <td>29.0</td>\n",
       "      <td>4</td>\n",
       "      <td>1</td>\n",
       "      <td>1</td>\n",
       "      <td>4</td>\n",
       "      <td>...</td>\n",
       "      <td>0.01512</td>\n",
       "      <td>0.7500</td>\n",
       "      <td>0.3585</td>\n",
       "      <td>0.03333</td>\n",
       "      <td>1.0</td>\n",
       "      <td>-0.2403</td>\n",
       "      <td>-0.5</td>\n",
       "      <td>-0.0500</td>\n",
       "      <td>0.000</td>\n",
       "      <td>0.0</td>\n",
       "    </tr>\n",
       "    <tr>\n",
       "      <th>4</th>\n",
       "      <td>9</td>\n",
       "      <td>107</td>\n",
       "      <td>0.8152</td>\n",
       "      <td>1.538000e-08</td>\n",
       "      <td>0.8154</td>\n",
       "      <td>5.0</td>\n",
       "      <td>2</td>\n",
       "      <td>0</td>\n",
       "      <td>0</td>\n",
       "      <td>4</td>\n",
       "      <td>...</td>\n",
       "      <td>0.02151</td>\n",
       "      <td>0.6667</td>\n",
       "      <td>0.4881</td>\n",
       "      <td>0.28570</td>\n",
       "      <td>1.0</td>\n",
       "      <td>-0.8000</td>\n",
       "      <td>-1.0</td>\n",
       "      <td>-0.6000</td>\n",
       "      <td>0.000</td>\n",
       "      <td>0.0</td>\n",
       "    </tr>\n",
       "  </tbody>\n",
       "</table>\n",
       "<p>5 rows × 43 columns</p>\n",
       "</div>"
      ],
      "text/plain": [
       "   nb_words_title  nb_words_content  pp_uniq_words  pp_stop_words  \\\n",
       "0              12               258         0.5745   6.897000e-09   \n",
       "1               8                11         0.0000   1.000000e+00   \n",
       "2              10               263         0.7249   6.623000e-09   \n",
       "3              13              1281         0.4067   1.422000e-09   \n",
       "4               9               107         0.8152   1.538000e-08   \n",
       "\n",
       "   pp_uniq_non-stop_words  nb_links  nb_outside_links  nb_images  nb_videos  \\\n",
       "0                  0.6897       4.0                 2          0          0   \n",
       "1                  0.0000       0.0                 0          0          0   \n",
       "2                  0.8543       6.0                 3          2          0   \n",
       "3                  0.5903      29.0                 4          1          1   \n",
       "4                  0.8154       5.0                 2          0          0   \n",
       "\n",
       "   ave_word_length     ...       pp_neg_words  pp_pos_words_in_nonneutral  \\\n",
       "0                4     ...            0.01653                      0.7143   \n",
       "1                0     ...            0.00000                      0.0000   \n",
       "2                5     ...            0.04701                      0.5000   \n",
       "3                4     ...            0.01512                      0.7500   \n",
       "4                4     ...            0.02151                      0.6667   \n",
       "\n",
       "   ave_polar_pos  min_polar_pos  max_polar_pos  ave_polar_neg  min_polar_neg  \\\n",
       "0         0.2967        0.10000            1.0        -0.2344           -0.3   \n",
       "1         0.0000        0.00000            0.0         0.0000            0.0   \n",
       "2         0.2617        0.10000            1.0        -0.2170           -0.5   \n",
       "3         0.3585        0.03333            1.0        -0.2403           -0.5   \n",
       "4         0.4881        0.28570            1.0        -0.8000           -1.0   \n",
       "\n",
       "   max_polar_neg  subj_title  polar_title  \n",
       "0        -0.1875       0.125          0.0  \n",
       "1         0.0000       0.525          0.3  \n",
       "2        -0.1250       0.000         -0.2  \n",
       "3        -0.0500       0.000          0.0  \n",
       "4        -0.6000       0.000          0.0  \n",
       "\n",
       "[5 rows x 43 columns]"
      ]
     },
     "execution_count": 19,
     "metadata": {},
     "output_type": "execute_result"
    }
   ],
   "source": [
    "feature_data = pd.read_csv('data/kaggle_data/features.txt', header=None, sep=\"  \", names=['feature_names', 'feature_description'])\n",
    "target_data = pd.read_csv('data/kaggle_data/train-targets.csv', sep=\",\")\n",
    "target_data.head(5)\n",
    "y_tr = target_data['Prediction'].values\n",
    "list_feature_names = list(feature_data['feature_names'])\n",
    "train_data = pd.read_csv('data/kaggle_data/train.csv', header=None, sep=\" \", names=list_feature_names)\n",
    "train_data.head(5)\n",
    "test_data = pd.read_csv('data/kaggle_data/test-val.csv', header=None, sep=\" \", names=list_feature_names)\n",
    "test_data.head(5)"
   ]
  },
  {
   "cell_type": "code",
   "execution_count": 4,
   "metadata": {
    "collapsed": true
   },
   "outputs": [],
   "source": [
    "#transform labels to log space\n",
    "def label_transform(k,b,labels):\n",
    "    return np.log(k*labels+b)\n",
    "\n",
    "#transforms logspace predictions back to linear space\n",
    "def inv_label_transform(k,b,log_pred):\n",
    "    return (np.exp(log_pred)-b)/k"
   ]
  },
  {
   "cell_type": "code",
   "execution_count": 20,
   "metadata": {
    "collapsed": true
   },
   "outputs": [],
   "source": [
    "#feature engineering and label engineering\n",
    "\n",
    "import math\n",
    "#Binarizing weekday data into working/non-working days 0-4 weekdays, 5 or 6 weekends\n",
    "def binarize_weekends(dataframe):\n",
    "    days = list(dataframe['weekday'])\n",
    "    is_weekend = [0 if day in [0,1,2,3,4] else 1 for day in days]\n",
    "    dataframe['weekday']=is_weekend\n",
    "    return dataframe\n",
    "\n",
    "#doing a continuous sine transfrm on the periodic weekday data\n",
    "def transform_weekdays(dataframe):\n",
    "    days = list(dataframe['weekday'])\n",
    "    cont_days = [math.sin(2*day*math.pi/7) for day in days]\n",
    "    print(cont_days)\n",
    "    dataframe['weekday']=cont_days\n",
    "    return dataframe\n",
    "\n",
    "#removing strongly correlated features, i.e. pp_uniq_words'<-> 'pp_uniq_non-stop_words'), ('nb_links'<-> 'nb_outside_links'), ('nb_mina_maxk'<-> 'nb_mina_avek')\n",
    "dropped_col_list=['pp_uniq_non-stop_words','nb_outside_links','nb_mina_avek']\n",
    "#dropped_col_list=[]\n",
    "b=0\n",
    "k=100\n",
    "y_tr = target_data['Prediction'].values\n",
    "y_tr = label_transform(k,b,y_tr)\n",
    "train_data = binarize_weekends(train_data)\n",
    "test_data = binarize_weekends(test_data)\n",
    "#train_data = transform_weekdays(train_data)\n",
    "#test_data = transform_weekdays(test_data)\n",
    "train_data = train_data.drop(dropped_col_list,axis=1)\n",
    "test_data = test_data.drop(dropped_col_list,axis=1)\n",
    "#print(test_data['weekday'])\n",
    "\n"
   ]
  },
  {
   "cell_type": "code",
   "execution_count": 21,
   "metadata": {
    "collapsed": true
   },
   "outputs": [],
   "source": [
    "\n",
    "# Get the weekday data and encode it using a dummy categorical encoding\n",
    "\"\"\"\n",
    "weekday_data = pd.get_dummies(train_data['weekday'], prefix='weekday', drop_first=True)\n",
    "other_data = train_data.drop(['weekday'], axis=1)\n",
    "train_data = pd.concat([weekday_data, other_data], axis=1)\n",
    "\n",
    "weekday_data = pd.get_dummies(test_data['weekday'], prefix='weekday', drop_first=True)\n",
    "other_data = test_data.drop(['weekday'], axis=1)\n",
    "test_data = pd.concat([weekday_data, other_data], axis=1)\n",
    "\n",
    "\"\"\"\n",
    "\n",
    "category_data = pd.get_dummies(train_data['category'], prefix='cat', drop_first=True)\n",
    "other_data = train_data.drop(['category'], axis=1)\n",
    "train_data = pd.concat([category_data, other_data], axis=1)\n",
    "\n",
    "\n",
    "category_data = pd.get_dummies(test_data['category'], prefix='cat', drop_first=True)\n",
    "other_data = test_data.drop(['category'], axis=1)\n",
    "test_data = pd.concat([category_data, other_data], axis=1)\n"
   ]
  },
  {
   "cell_type": "code",
   "execution_count": 473,
   "metadata": {},
   "outputs": [
    {
     "data": {
      "text/html": [
       "<div>\n",
       "<style>\n",
       "    .dataframe thead tr:only-child th {\n",
       "        text-align: right;\n",
       "    }\n",
       "\n",
       "    .dataframe thead th {\n",
       "        text-align: left;\n",
       "    }\n",
       "\n",
       "    .dataframe tbody tr th {\n",
       "        vertical-align: top;\n",
       "    }\n",
       "</style>\n",
       "<table border=\"1\" class=\"dataframe\">\n",
       "  <thead>\n",
       "    <tr style=\"text-align: right;\">\n",
       "      <th></th>\n",
       "      <th>cat_1</th>\n",
       "      <th>cat_2</th>\n",
       "      <th>cat_3</th>\n",
       "      <th>cat_4</th>\n",
       "      <th>cat_5</th>\n",
       "      <th>nb_words_title</th>\n",
       "      <th>nb_words_content</th>\n",
       "      <th>pp_uniq_words</th>\n",
       "      <th>pp_stop_words</th>\n",
       "      <th>pp_uniq_non-stop_words</th>\n",
       "      <th>...</th>\n",
       "      <th>pp_neg_words</th>\n",
       "      <th>pp_pos_words_in_nonneutral</th>\n",
       "      <th>ave_polar_pos</th>\n",
       "      <th>min_polar_pos</th>\n",
       "      <th>max_polar_pos</th>\n",
       "      <th>ave_polar_neg</th>\n",
       "      <th>min_polar_neg</th>\n",
       "      <th>max_polar_neg</th>\n",
       "      <th>subj_title</th>\n",
       "      <th>polar_title</th>\n",
       "    </tr>\n",
       "  </thead>\n",
       "  <tbody>\n",
       "    <tr>\n",
       "      <th>2000</th>\n",
       "      <td>1</td>\n",
       "      <td>0</td>\n",
       "      <td>0</td>\n",
       "      <td>0</td>\n",
       "      <td>0</td>\n",
       "      <td>9</td>\n",
       "      <td>843</td>\n",
       "      <td>0.5358</td>\n",
       "      <td>2.092000e-09</td>\n",
       "      <td>0.7469</td>\n",
       "      <td>...</td>\n",
       "      <td>0.019230</td>\n",
       "      <td>0.7143</td>\n",
       "      <td>0.4437</td>\n",
       "      <td>0.03333</td>\n",
       "      <td>1.0</td>\n",
       "      <td>-0.3160</td>\n",
       "      <td>-0.8000</td>\n",
       "      <td>-0.05</td>\n",
       "      <td>0.0</td>\n",
       "      <td>0.0</td>\n",
       "    </tr>\n",
       "    <tr>\n",
       "      <th>2001</th>\n",
       "      <td>0</td>\n",
       "      <td>0</td>\n",
       "      <td>0</td>\n",
       "      <td>0</td>\n",
       "      <td>1</td>\n",
       "      <td>9</td>\n",
       "      <td>805</td>\n",
       "      <td>0.4196</td>\n",
       "      <td>2.165000e-09</td>\n",
       "      <td>0.5693</td>\n",
       "      <td>...</td>\n",
       "      <td>0.025710</td>\n",
       "      <td>0.5349</td>\n",
       "      <td>0.3081</td>\n",
       "      <td>0.05000</td>\n",
       "      <td>0.8</td>\n",
       "      <td>-0.3463</td>\n",
       "      <td>-0.7143</td>\n",
       "      <td>-0.10</td>\n",
       "      <td>0.9</td>\n",
       "      <td>0.3</td>\n",
       "    </tr>\n",
       "    <tr>\n",
       "      <th>2002</th>\n",
       "      <td>0</td>\n",
       "      <td>0</td>\n",
       "      <td>0</td>\n",
       "      <td>1</td>\n",
       "      <td>0</td>\n",
       "      <td>8</td>\n",
       "      <td>145</td>\n",
       "      <td>0.7594</td>\n",
       "      <td>1.163000e-08</td>\n",
       "      <td>0.8488</td>\n",
       "      <td>...</td>\n",
       "      <td>0.007519</td>\n",
       "      <td>0.8333</td>\n",
       "      <td>0.3673</td>\n",
       "      <td>0.13640</td>\n",
       "      <td>0.5</td>\n",
       "      <td>-0.2000</td>\n",
       "      <td>-0.2000</td>\n",
       "      <td>-0.20</td>\n",
       "      <td>0.0</td>\n",
       "      <td>0.0</td>\n",
       "    </tr>\n",
       "    <tr>\n",
       "      <th>2003</th>\n",
       "      <td>0</td>\n",
       "      <td>0</td>\n",
       "      <td>0</td>\n",
       "      <td>1</td>\n",
       "      <td>0</td>\n",
       "      <td>12</td>\n",
       "      <td>201</td>\n",
       "      <td>0.6359</td>\n",
       "      <td>9.259000e-09</td>\n",
       "      <td>0.8148</td>\n",
       "      <td>...</td>\n",
       "      <td>0.027030</td>\n",
       "      <td>0.7368</td>\n",
       "      <td>0.3721</td>\n",
       "      <td>0.13640</td>\n",
       "      <td>0.6</td>\n",
       "      <td>-0.4000</td>\n",
       "      <td>-0.4000</td>\n",
       "      <td>-0.40</td>\n",
       "      <td>0.0</td>\n",
       "      <td>0.0</td>\n",
       "    </tr>\n",
       "    <tr>\n",
       "      <th>2004</th>\n",
       "      <td>0</td>\n",
       "      <td>0</td>\n",
       "      <td>0</td>\n",
       "      <td>0</td>\n",
       "      <td>1</td>\n",
       "      <td>13</td>\n",
       "      <td>673</td>\n",
       "      <td>0.4609</td>\n",
       "      <td>2.500000e-09</td>\n",
       "      <td>0.5950</td>\n",
       "      <td>...</td>\n",
       "      <td>0.021440</td>\n",
       "      <td>0.5625</td>\n",
       "      <td>0.3500</td>\n",
       "      <td>0.05000</td>\n",
       "      <td>0.6</td>\n",
       "      <td>-0.2435</td>\n",
       "      <td>-0.8000</td>\n",
       "      <td>-0.10</td>\n",
       "      <td>0.0</td>\n",
       "      <td>0.0</td>\n",
       "    </tr>\n",
       "  </tbody>\n",
       "</table>\n",
       "<p>5 rows × 47 columns</p>\n",
       "</div>"
      ],
      "text/plain": [
       "      cat_1  cat_2  cat_3  cat_4  cat_5  nb_words_title  nb_words_content  \\\n",
       "2000      1      0      0      0      0               9               843   \n",
       "2001      0      0      0      0      1               9               805   \n",
       "2002      0      0      0      1      0               8               145   \n",
       "2003      0      0      0      1      0              12               201   \n",
       "2004      0      0      0      0      1              13               673   \n",
       "\n",
       "      pp_uniq_words  pp_stop_words  pp_uniq_non-stop_words     ...       \\\n",
       "2000         0.5358   2.092000e-09                  0.7469     ...        \n",
       "2001         0.4196   2.165000e-09                  0.5693     ...        \n",
       "2002         0.7594   1.163000e-08                  0.8488     ...        \n",
       "2003         0.6359   9.259000e-09                  0.8148     ...        \n",
       "2004         0.4609   2.500000e-09                  0.5950     ...        \n",
       "\n",
       "      pp_neg_words  pp_pos_words_in_nonneutral  ave_polar_pos  min_polar_pos  \\\n",
       "2000      0.019230                      0.7143         0.4437        0.03333   \n",
       "2001      0.025710                      0.5349         0.3081        0.05000   \n",
       "2002      0.007519                      0.8333         0.3673        0.13640   \n",
       "2003      0.027030                      0.7368         0.3721        0.13640   \n",
       "2004      0.021440                      0.5625         0.3500        0.05000   \n",
       "\n",
       "      max_polar_pos  ave_polar_neg  min_polar_neg  max_polar_neg  subj_title  \\\n",
       "2000            1.0        -0.3160        -0.8000          -0.05         0.0   \n",
       "2001            0.8        -0.3463        -0.7143          -0.10         0.9   \n",
       "2002            0.5        -0.2000        -0.2000          -0.20         0.0   \n",
       "2003            0.6        -0.4000        -0.4000          -0.40         0.0   \n",
       "2004            0.6        -0.2435        -0.8000          -0.10         0.0   \n",
       "\n",
       "      polar_title  \n",
       "2000          0.0  \n",
       "2001          0.3  \n",
       "2002          0.0  \n",
       "2003          0.0  \n",
       "2004          0.0  \n",
       "\n",
       "[5 rows x 47 columns]"
      ]
     },
     "execution_count": 473,
     "metadata": {},
     "output_type": "execute_result"
    }
   ],
   "source": [
    "train_data.head(5)"
   ]
  },
  {
   "cell_type": "code",
   "execution_count": 474,
   "metadata": {
    "collapsed": true
   },
   "outputs": [],
   "source": [
    "# Cross-validation procedure, with standardization\n",
    "def cross_validate_regr_with_scaling(design_matrix, labels, regressor, cv_folds):\n",
    "    \"\"\" Perform a cross-validation and returns the predictions. \n",
    "    Use a scaler to scale the features to mean 0, standard deviation 1.\n",
    "    \n",
    "    Parameters:\n",
    "    -----------\n",
    "    design_matrix: (n_samples, n_features) np.array\n",
    "        Design matrix for the experiment.\n",
    "    labels: (n_samples, ) np.array\n",
    "        Vector of labels.\n",
    "    classifier:  Regressor instance; must have the following methods:\n",
    "        - fit(X, y) to train the regressor on the data X, y\n",
    "        - predict_proba(X) to apply the trained regressor to the data X and return predicted values\n",
    "    cv_folds: sklearn cross-validation object\n",
    "        Cross-validation iterator.\n",
    "        \n",
    "    Return:\n",
    "    -------\n",
    "    pred: (n_samples, ) np.array\n",
    "        Vectors of predictions (same order as labels).\n",
    "    \"\"\"\n",
    "    \n",
    "    pred = np.zeros(labels.shape)\n",
    "    pca = decomposition.PCA(n_components=30)\n",
    "    scaler = preprocessing.StandardScaler()\n",
    "    pca.fit(design_matrix)\n",
    "    for tr, te in cv_folds:\n",
    "        Xtr = scaler.fit_transform(design_matrix[tr,:])\n",
    "        Xtr = pca.transform(Xtr)\n",
    "        ytr = labels[tr]\n",
    "        Xte = scaler.transform(design_matrix[te,:])\n",
    "        Xte = pca.transform(Xte)\n",
    "        regressor.fit(Xtr, ytr)\n",
    "        pred[te] = regressor.predict(Xte)\n",
    "    return pred"
   ]
  },
  {
   "cell_type": "code",
   "execution_count": 7,
   "metadata": {},
   "outputs": [
    {
     "name": "stderr",
     "output_type": "stream",
     "text": [
      "/Users/XQ/envs/scipy35/lib/python3.5/site-packages/sklearn/cross_validation.py:41: DeprecationWarning: This module was deprecated in version 0.18 in favor of the model_selection module into which all the refactored classes and functions are moved. Also note that the interface of the new CV iterators are different from that of this module. This module will be removed in 0.20.\n",
      "  \"This module will be removed in 0.20.\", DeprecationWarning)\n",
      "/Users/XQ/envs/scipy35/lib/python3.5/site-packages/sklearn/cross_validation.py:553: Warning: The least populated class in y has only 1 members, which is too few. The minimum number of labels for any class cannot be less than n_folds=5.\n",
      "  % (min_labels, self.n_folds)), Warning)\n"
     ]
    },
    {
     "name": "stdout",
     "output_type": "stream",
     "text": [
      "(2000, 43)\n"
     ]
    }
   ],
   "source": [
    "#create folds\n",
    "from sklearn import cross_validation\n",
    "\n",
    "X_tr = train_data.values\n",
    "X_te = test_data.values\n",
    "print(X_te.shape)\n",
    "folds_regr = cross_validation.StratifiedKFold(y_tr,n_folds=5,shuffle=True)\n"
   ]
  },
  {
   "cell_type": "code",
   "execution_count": 476,
   "metadata": {},
   "outputs": [
    {
     "name": "stdout",
     "output_type": "stream",
     "text": [
      "with standardization; RMSLE:  0.86757293221 ; alpha:  0.00483293023857\n"
     ]
    }
   ],
   "source": [
    "from sklearn.model_selection import GridSearchCV\n",
    "\n",
    "from sklearn import linear_model\n",
    "param_grid = {'alpha': np.logspace(-4, 4, 20)}\n",
    "\"\"\"\n",
    "regr_lasso_stand = linear_model.LinearRegression(fit_intercept=True)\n",
    "ypred_lasso_stand = cross_validate_regr_with_scaling(X_tr, y_tr, regr_lasso_stand, folds_regr)\n",
    "ypred_lasso_stand = np.where(ypred_lasso_stand>0,ypred_lasso_stand,0)\n",
    "print(metrics.mean_squared_log_error(y_tr,ypred_lasso_stand))\n",
    "#print(regr_lasso_stand.predict(X_te))\n",
    "#print(\"with standardization; RMSE: \", np.sqrt(metrics.mean_squared_error(y_te,\n",
    "#                                                                      ypred_lasso_stand)))\n",
    "\n",
    "np.random.seed(5)\n",
    "regr_ridge_stand_opt = GridSearchCV(linear_model.Ridge(), param_grid, scoring='neg_mean_squared_error')\n",
    "ypred_ridge_stand_opt = cross_validate_regr_with_scaling(X_tr,y_tr,regr_ridge_stand_opt,folds_regr)\n",
    "ypred_ridge_stand_opt = np.where(ypred_ridge_stand_opt>0,ypred_ridge_stand_opt,0)\n",
    "print(\"with scaling:\", metrics.mean_squared_log_error(y_tr,ypred_ridge_stand_opt), 'alpha: ', regr_lasso_stand_opt.best_params_['alpha'])\n",
    "\"\"\"\n",
    "blist = [-200,-100,100,200,300,400]\n",
    "\n",
    "np.random.seed(5)\n",
    "regr_lasso_stand_opt = GridSearchCV(linear_model.Lasso(), param_grid,scoring='neg_mean_squared_log_error')\n",
    "ypred_lasso_stand_opt_raw = cross_validate_regr_with_scaling(X_tr, y_tr, regr_lasso_stand_opt, folds_regr)\n",
    "#ypred_lasso_stand_opt = np.where(ypred_lasso_stand_opt_raw>0,ypred_lasso_stand_opt_raw,0)\n",
    "print(\"with standardization; RMSLE: \", np.sqrt(metrics.mean_squared_log_error(inv_label_transform(k,b,y_tr),\n",
    "                                                                       inv_label_transform(k,b,ypred_lasso_stand_opt_raw))),'; alpha: ', regr_lasso_stand_opt.best_params_['alpha'])"
   ]
  },
  {
   "cell_type": "code",
   "execution_count": 477,
   "metadata": {},
   "outputs": [
    {
     "name": "stdout",
     "output_type": "stream",
     "text": [
      "[ 1424.09713234  1327.00544761  1890.59455232  1686.37122039  1387.28238089\n",
      "  2225.49069067  1099.32947858  1122.14302025  2318.21518026  2644.29890163]\n",
      "348396.182252\n"
     ]
    }
   ],
   "source": [
    "ypred_lasso_stand_opt=inv_label_transform(k,b,ypred_lasso_stand_opt_raw)\n",
    "print(ypred_lasso_stand_opt[:10])\n",
    "print(max(ypred_lasso_stand_opt))"
   ]
  },
  {
   "cell_type": "code",
   "execution_count": 478,
   "metadata": {},
   "outputs": [
    {
     "name": "stdout",
     "output_type": "stream",
     "text": [
      "[ 0.13192113  0.08634351  0.06351996  0.06338384  0.05522427  0.05246681\n",
      "  0.04845902  0.04579258  0.0422531   0.03488187  0.03015276  0.02816987\n",
      "  0.02731671  0.02344791  0.02288483  0.02207631  0.02088923  0.01906112\n",
      "  0.01847821  0.01638283  0.01568692  0.01400303  0.01327824  0.01208997\n",
      "  0.01130565  0.01095617  0.00951491  0.00890497  0.00731478  0.0066364 ]\n"
     ]
    },
    {
     "data": {
      "text/plain": [
       "<matplotlib.text.Text at 0x10ec858d0>"
      ]
     },
     "execution_count": 478,
     "metadata": {},
     "output_type": "execute_result"
    },
    {
     "data": {
      "image/png": "[encoded data removed]",
      "text/plain": [
       "<matplotlib.figure.Figure at 0x10ec6bb38>"
      ]
     },
     "metadata": {},
     "output_type": "display_data"
    }
   ],
   "source": [
    "from sklearn import decomposition\n",
    "\n",
    "std_scale = preprocessing.StandardScaler().fit(X_tr)\n",
    "X_scaled = std_scale.transform(X_tr)\n",
    "\n",
    "n_pcs = 30\n",
    "\n",
    "pca = decomposition.PCA(n_components=n_pcs)\n",
    "pca.fit(X_scaled)\n",
    "X_projected = pca.transform(X_scaled)\n",
    "print(pca.explained_variance_ratio_)\n",
    "plt.bar(np.arange(n_pcs), pca.explained_variance_ratio_, color='blue')\n",
    "plt.xlim([-1, n_pcs])\n",
    "plt.xlabel(\"Number of PCs\", fontsize=16)\n",
    "plt.ylabel(\"Fraction of variance explained\", fontsize=16)"
   ]
  },
  {
   "cell_type": "code",
   "execution_count": null,
   "metadata": {
    "collapsed": true
   },
   "outputs": [],
   "source": [
    "print(max(ypred_lasso_stand_opt))"
   ]
  },
  {
   "cell_type": "code",
   "execution_count": null,
   "metadata": {
    "collapsed": true
   },
   "outputs": [],
   "source": [
    "print(max(y_tr))"
   ]
  },
  {
   "cell_type": "code",
   "execution_count": 482,
   "metadata": {},
   "outputs": [
    {
     "name": "stdout",
     "output_type": "stream",
     "text": [
      "(2000,)\n",
      "120470\n",
      "981\n"
     ]
    },
    {
     "data": {
      "text/html": [
       "<div>\n",
       "<style>\n",
       "    .dataframe thead tr:only-child th {\n",
       "        text-align: right;\n",
       "    }\n",
       "\n",
       "    .dataframe thead th {\n",
       "        text-align: left;\n",
       "    }\n",
       "\n",
       "    .dataframe tbody tr th {\n",
       "        vertical-align: top;\n",
       "    }\n",
       "</style>\n",
       "<table border=\"1\" class=\"dataframe\">\n",
       "  <thead>\n",
       "    <tr style=\"text-align: right;\">\n",
       "      <th></th>\n",
       "      <th>Prediction</th>\n",
       "    </tr>\n",
       "  </thead>\n",
       "  <tbody>\n",
       "    <tr>\n",
       "      <th>0</th>\n",
       "      <td>1415</td>\n",
       "    </tr>\n",
       "    <tr>\n",
       "      <th>1</th>\n",
       "      <td>1877</td>\n",
       "    </tr>\n",
       "    <tr>\n",
       "      <th>2</th>\n",
       "      <td>1544</td>\n",
       "    </tr>\n",
       "    <tr>\n",
       "      <th>3</th>\n",
       "      <td>2389</td>\n",
       "    </tr>\n",
       "    <tr>\n",
       "      <th>4</th>\n",
       "      <td>2031</td>\n",
       "    </tr>\n",
       "  </tbody>\n",
       "</table>\n",
       "</div>"
      ],
      "text/plain": [
       "   Prediction\n",
       "0        1415\n",
       "1        1877\n",
       "2        1544\n",
       "3        2389\n",
       "4        2031"
      ]
     },
     "execution_count": 482,
     "metadata": {},
     "output_type": "execute_result"
    }
   ],
   "source": [
    "pca = decomposition.PCA(n_components=30)\n",
    "scaler = preprocessing.StandardScaler()\n",
    "pca.fit(X_tr)\n",
    "pred = regr_lasso_stand_opt.predict(pca.transform(scaler.fit_transform(X_te)))\n",
    "pred = inv_label_transform(k,b,pred)\n",
    "print(pred.shape)\n",
    "pred_int = list(map(int, np.where(pred>0,pred,0)))\n",
    "print(max(np.array(pred_int)))\n",
    "print(min(np.array(pred_int)))\n",
    "pred_df = pd.DataFrame()\n",
    "pred_df['Prediction'] = pred_int\n",
    "pred_df.head(5)"
   ]
  },
  {
   "cell_type": "code",
   "execution_count": 480,
   "metadata": {},
   "outputs": [
    {
     "name": "stdout",
     "output_type": "stream",
     "text": [
      "[16]\n"
     ]
    }
   ],
   "source": [
    "print(max(pred_df.values))"
   ]
  },
  {
   "cell_type": "code",
   "execution_count": 483,
   "metadata": {
    "collapsed": true
   },
   "outputs": [],
   "source": [
    "pred_df.to_csv('lasso_v2.csv')"
   ]
  },
  {
   "cell_type": "code",
   "execution_count": 9,
   "metadata": {},
   "outputs": [
    {
     "name": "stdout",
     "output_type": "stream",
     "text": [
      "{'n_neighbors': range(10, 100, 10)}\n"
     ]
    },
    {
     "data": {
      "text/plain": [
       "GridSearchCV(cv=sklearn.cross_validation.StratifiedKFold(labels=[ 11.38736  11.61005 ...,  11.40978  11.69857], n_folds=5, shuffle=True, random_state=None),\n",
       "       error_score='raise',\n",
       "       estimator=KNeighborsRegressor(algorithm='auto', leaf_size=30, metric='minkowski',\n",
       "          metric_params=None, n_jobs=1, n_neighbors=5, p=2,\n",
       "          weights='uniform'),\n",
       "       fit_params=None, iid=True, n_jobs=1,\n",
       "       param_grid={'n_neighbors': range(10, 100, 10)},\n",
       "       pre_dispatch='2*n_jobs', refit=True, return_train_score=True,\n",
       "       scoring='neg_mean_squared_log_error', verbose=0)"
      ]
     },
     "execution_count": 9,
     "metadata": {},
     "output_type": "execute_result"
    }
   ],
   "source": [
    "#start of nearest neighbors prediction\n",
    "import math\n",
    "from sklearn import neighbors\n",
    "from sklearn import model_selection\n",
    "\n",
    "regressor = neighbors.KNeighborsRegressor()\n",
    "param_grid = {'n_neighbors':range(10,100,10) }\n",
    "print(param_grid)\n",
    "clf_knn_opt = model_selection.GridSearchCV(regressor,  param_grid=param_grid, cv=folds_regr,scoring='neg_mean_squared_log_error')\n",
    "clf_knn_opt.fit(X_tr,y_tr)\n"
   ]
  },
  {
   "cell_type": "code",
   "execution_count": 10,
   "metadata": {},
   "outputs": [
    {
     "name": "stdout",
     "output_type": "stream",
     "text": [
      "{'n_neighbors': 60}\n"
     ]
    }
   ],
   "source": [
    "print(clf_knn_opt.best_params_)"
   ]
  },
  {
   "cell_type": "code",
   "execution_count": 12,
   "metadata": {},
   "outputs": [
    {
     "name": "stdout",
     "output_type": "stream",
     "text": [
      "(5000,)\n",
      "0.765300388074\n",
      "12.9522688025\n"
     ]
    }
   ],
   "source": [
    "def cross_validate(design_matrix, labels, regressor, cv_folds):\n",
    "    \"\"\" Perform a cross-validation and returns the predictions. \n",
    "    Use a scaler to scale the features to mean 0, standard deviation 1.\n",
    "    \n",
    "    Parameters:\n",
    "    -----------\n",
    "    design_matrix: (n_samples, n_features) np.array\n",
    "        Design matrix for the experiment.\n",
    "    labels: (n_samples, ) np.array\n",
    "        Vector of labels.\n",
    "    classifier:  Regressor instance; must have the following methods:\n",
    "        - fit(X, y) to train the regressor on the data X, y\n",
    "        - predict_proba(X) to apply the trained regressor to the data X and return predicted values\n",
    "    cv_folds: sklearn cross-validation object\n",
    "        Cross-validation iterator.\n",
    "        \n",
    "    Return:\n",
    "    -------\n",
    "    pred: (n_samples, ) np.array\n",
    "        Vectors of predictions (same order as labels).\n",
    "    \"\"\"\n",
    "    #labels = np.array(labels)\n",
    "    n_classes = np.unique(labels).size\n",
    "   # print(labels.shape[0])\n",
    "    pred = np.zeros(labels.shape[0])\n",
    "    for tr, te in cv_folds:\n",
    "        scaler = preprocessing.StandardScaler()\n",
    "        Xtr = scaler.fit_transform(design_matrix[tr,:])\n",
    "        ytr =  labels[tr]\n",
    "        Xte = scaler.transform(design_matrix[te,:])\n",
    "        regressor.fit(Xtr, ytr)\n",
    "        prediction = regressor.predict(Xte)\n",
    "        pred[te] = prediction\n",
    "    return pred\n",
    "\n",
    "ypred_clf_knn_opt = cross_validate(X_tr,y_tr,clf_knn_opt.best_estimator_,folds_regr)\n",
    "print(ypred_clf_knn_opt.shape)\n",
    "print(metrics.mean_squared_log_error(inv_label_transform(k,b,y_tr),inv_label_transform(k,b,ypred_clf_knn_opt)))\n",
    "print(max(ypred_clf_knn_opt))\n"
   ]
  },
  {
   "cell_type": "code",
   "execution_count": 22,
   "metadata": {},
   "outputs": [
    {
     "name": "stdout",
     "output_type": "stream",
     "text": [
      "{'max_features': 10}\n",
      "{'max_features': 20}\n",
      "{'max_features': 2}\n",
      "{'max_features': 2}\n",
      "{'max_features': 2}\n",
      "13.2871775073\n",
      "0.732215782379\n"
     ]
    },
    {
     "data": {
      "text/plain": [
       "\"\\nbt = ensemble.BaggingRegressor(n_estimators=100)\\nparam_grid = {'max_features':[7]}\\nregr_bt = model_selection.GridSearchCV(bt,param_grid=param_grid,scoring='neg_mean_squared_error')\\nypred_bt_opt = cross_validate_reg_optimize(X_tr,y_tr,regr_bt,folds_regr)\\nprint(max(ypred_bt_opt))\\nprint(metrics.mean_squared_log_error(y_tr,ypred_bt_opt))\\n\""
      ]
     },
     "execution_count": 22,
     "metadata": {},
     "output_type": "execute_result"
    }
   ],
   "source": [
    "#START OF RANDOM FORESTS\n",
    "from sklearn import ensemble\n",
    "def cross_validate_reg_optimize(design_matrix, labels, regressor, cv_folds):\n",
    "    \"\"\" Perform a cross-validation and returns the predictions.\n",
    "    \n",
    "    Parameters:\n",
    "    -----------\n",
    "    design_matrix: (n_samples, n_features) np.array\n",
    "        Design matrix for the experiment.\n",
    "    labels: (n_samples, ) np.array\n",
    "        Vector of labels.\n",
    "    classifier:  sklearn classifier object\n",
    "        Classifier instance; must have the following methods:\n",
    "        - fit(X, y) to train the classifier on the data X, y\n",
    "        - predict_proba(X) to apply the trained classifier to the data X and return probability estimates \n",
    "    cv_folds: sklearn cross-validation object\n",
    "        Cross-validation iterator.\n",
    "        \n",
    "    Return:\n",
    "    -------\n",
    "    pred: (n_samples, ) np.array\n",
    "        Vectors of predictions (same order as labels).\n",
    "    \"\"\"\n",
    "    pred = np.zeros(labels.shape)\n",
    "    for tr, te in cv_folds:\n",
    "        scaler = preprocessing.StandardScaler()\n",
    "        Xtr = scaler.fit_transform(design_matrix[tr,:])\n",
    "        ytr =  labels[tr]\n",
    "        Xte = scaler.transform(design_matrix[te,:])\n",
    "        regressor.fit(Xtr, ytr)\n",
    "        print(regressor.best_params_)\n",
    "        prediction = regressor.best_estimator_.predict(Xte)\n",
    "        pred[te] = prediction\n",
    "    return pred\n",
    "\n",
    "rf = ensemble.RandomForestRegressor(n_estimators=200)\n",
    "param_grid = {'max_features':[2,4,6,8,10,12,14,16,18,20]}\n",
    "regr_rf = model_selection.GridSearchCV(rf,param_grid=param_grid,scoring='neg_mean_squared_log_error')\n",
    "ypred_rf_opt = cross_validate_reg_optimize(X_tr,y_tr,regr_rf,folds_regr)\n",
    "print(max(ypred_rf_opt))\n",
    "print(metrics.mean_squared_log_error(inv_label_transform(k,b,y_tr),inv_label_transform(k,b,ypred_rf_opt)))\n",
    "\"\"\"\n",
    "bt = ensemble.BaggingRegressor(n_estimators=100)\n",
    "param_grid = {'max_features':[7]}\n",
    "regr_bt = model_selection.GridSearchCV(bt,param_grid=param_grid,scoring='neg_mean_squared_error')\n",
    "ypred_bt_opt = cross_validate_reg_optimize(X_tr,y_tr,regr_bt,folds_regr)\n",
    "print(max(ypred_bt_opt))\n",
    "print(metrics.mean_squared_log_error(y_tr,ypred_bt_opt))\n",
    "\"\"\""
   ]
  },
  {
   "cell_type": "code",
   "execution_count": 18,
   "metadata": {},
   "outputs": [
    {
     "name": "stdout",
     "output_type": "stream",
     "text": [
      "0.854182596665\n",
      "6781.46583104\n",
      "{'max_features': 2}\n"
     ]
    }
   ],
   "source": [
    "print(np.sqrt(metrics.mean_squared_log_error(inv_label_transform(k,b,y_tr),inv_label_transform(k,b,ypred_rf_opt))))\n",
    "ypred_rf_opt_1 = inv_label_transform(k,b,ypred_rf_opt)\n",
    "print(max(ypred_rf_opt_1))\n",
    "print(regr_rf.best_params_)\n",
    "#print(np.sort(y_tr[:20]))"
   ]
  },
  {
   "cell_type": "code",
   "execution_count": 505,
   "metadata": {},
   "outputs": [
    {
     "name": "stdout",
     "output_type": "stream",
     "text": [
      "(2000,)\n",
      "5327\n",
      "861\n"
     ]
    },
    {
     "data": {
      "text/html": [
       "<div>\n",
       "<style>\n",
       "    .dataframe thead tr:only-child th {\n",
       "        text-align: right;\n",
       "    }\n",
       "\n",
       "    .dataframe thead th {\n",
       "        text-align: left;\n",
       "    }\n",
       "\n",
       "    .dataframe tbody tr th {\n",
       "        vertical-align: top;\n",
       "    }\n",
       "</style>\n",
       "<table border=\"1\" class=\"dataframe\">\n",
       "  <thead>\n",
       "    <tr style=\"text-align: right;\">\n",
       "      <th></th>\n",
       "      <th>Prediction</th>\n",
       "    </tr>\n",
       "  </thead>\n",
       "  <tbody>\n",
       "    <tr>\n",
       "      <th>0</th>\n",
       "      <td>1563</td>\n",
       "    </tr>\n",
       "    <tr>\n",
       "      <th>1</th>\n",
       "      <td>2116</td>\n",
       "    </tr>\n",
       "    <tr>\n",
       "      <th>2</th>\n",
       "      <td>1544</td>\n",
       "    </tr>\n",
       "    <tr>\n",
       "      <th>3</th>\n",
       "      <td>2159</td>\n",
       "    </tr>\n",
       "    <tr>\n",
       "      <th>4</th>\n",
       "      <td>2265</td>\n",
       "    </tr>\n",
       "  </tbody>\n",
       "</table>\n",
       "</div>"
      ],
      "text/plain": [
       "   Prediction\n",
       "0        1563\n",
       "1        2116\n",
       "2        1544\n",
       "3        2159\n",
       "4        2265"
      ]
     },
     "execution_count": 505,
     "metadata": {},
     "output_type": "execute_result"
    }
   ],
   "source": [
    "scaler = preprocessing.StandardScaler()\n",
    "pred = regr_rf.predict(scaler.fit_transform(X_te))\n",
    "pred = inv_label_transform(k,b,pred)\n",
    "print(pred.shape)\n",
    "pred_int = list(map(int, np.where(pred>0,pred,0)))\n",
    "print(max(np.array(pred_int)))\n",
    "print(min(np.array(pred_int)))\n",
    "pred_rf = pd.DataFrame()\n",
    "pred_rf['Prediction'] = pred_int\n",
    "pred_rf.head(5)"
   ]
  },
  {
   "cell_type": "code",
   "execution_count": 506,
   "metadata": {
    "collapsed": true
   },
   "outputs": [],
   "source": [
    "pred_rf.to_csv('rf_super.csv')"
   ]
  },
  {
   "cell_type": "code",
   "execution_count": null,
   "metadata": {
    "collapsed": true
   },
   "outputs": [],
   "source": [
    "print(max(test))"
   ]
  },
  {
   "cell_type": "code",
   "execution_count": 356,
   "metadata": {},
   "outputs": [
    {
     "data": {
      "text/plain": [
       "[<matplotlib.lines.Line2D at 0x114acb198>]"
      ]
     },
     "execution_count": 356,
     "metadata": {},
     "output_type": "execute_result"
    },
    {
     "data": {
      "image/png": "[encoded data removed]",
      "text/plain": [
       "<matplotlib.figure.Figure at 0x1154100f0>"
      ]
     },
     "metadata": {},
     "output_type": "display_data"
    }
   ],
   "source": [
    "plt.plot(np.log(0.1*np.sort(y_tr)))"
   ]
  },
  {
   "cell_type": "code",
   "execution_count": null,
   "metadata": {
    "collapsed": true
   },
   "outputs": [],
   "source": []
  }
 ],
 "metadata": {
  "kernelspec": {
   "display_name": "Python 3",
   "language": "python",
   "name": "python3"
  },
  "language_info": {
   "codemirror_mode": {
    "name": "ipython",
    "version": 3
   },
   "file_extension": ".py",
   "mimetype": "text/x-python",
   "name": "python",
   "nbconvert_exporter": "python",
   "pygments_lexer": "ipython3",
   "version": "3.5.3"
  }
 },
 "nbformat": 4,
 "nbformat_minor": 2
}
